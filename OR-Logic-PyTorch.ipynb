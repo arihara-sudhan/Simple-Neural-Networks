{
 "cells": [
  {
   "cell_type": "markdown",
   "id": "0b499423",
   "metadata": {},
   "source": [
    "# OR LOGIC USING PYTORCH"
   ]
  },
  {
   "cell_type": "markdown",
   "id": "997df3a4",
   "metadata": {},
   "source": [
    "## 1. IMPORT TORCH"
   ]
  },
  {
   "cell_type": "code",
   "execution_count": 1,
   "id": "d3d5c7ca",
   "metadata": {},
   "outputs": [],
   "source": [
    "import torch\n",
    "import torch.nn as nn"
   ]
  },
  {
   "cell_type": "markdown",
   "id": "7eb387d6",
   "metadata": {},
   "source": [
    "## 2. OR INPUT AND OUTPUT"
   ]
  },
  {
   "cell_type": "code",
   "execution_count": 3,
   "id": "b46ae6c1",
   "metadata": {},
   "outputs": [],
   "source": [
    "X = torch.tensor([[0, 0], [0, 1], [1, 0], [1, 1]], dtype=torch.float)\n",
    "Y = torch.tensor([[0], [1], [1], [1]], dtype=torch.float)"
   ]
  },
  {
   "cell_type": "markdown",
   "id": "d6e535ca",
   "metadata": {},
   "source": [
    "## 3. DEFINE THE NEURAL NETWORK MODEL"
   ]
  },
  {
   "cell_type": "code",
   "execution_count": 5,
   "id": "449d78c4",
   "metadata": {},
   "outputs": [],
   "source": [
    "class ORModel(nn.Module):\n",
    "    def __init__(self):\n",
    "        super(ORModel, self).__init__()\n",
    "        self.linear = nn.Linear(2, 1)\n",
    "        \n",
    "    def forward(self, x):\n",
    "        y_pred = torch.sigmoid(self.linear(x))\n",
    "        return y_pred"
   ]
  },
  {
   "cell_type": "markdown",
   "id": "a5e03b02",
   "metadata": {},
   "source": [
    "## 4. CREATE INSTANCE OF THE MODEL"
   ]
  },
  {
   "cell_type": "code",
   "execution_count": 7,
   "id": "c1d50a8d",
   "metadata": {},
   "outputs": [],
   "source": [
    "model = ORModel()"
   ]
  },
  {
   "cell_type": "markdown",
   "id": "e76f706c",
   "metadata": {},
   "source": [
    "## 5. DEFINE LOSS FUNCTION AND OPTIMIZER"
   ]
  },
  {
   "cell_type": "code",
   "execution_count": 9,
   "id": "17d1ed35",
   "metadata": {},
   "outputs": [],
   "source": [
    "criterion = nn.BCELoss()\n",
    "optimizer = torch.optim.SGD(model.parameters(), lr=0.1)"
   ]
  },
  {
   "cell_type": "markdown",
   "id": "23fea4fc",
   "metadata": {},
   "source": [
    "## 6. TRAIN THE MODEL"
   ]
  },
  {
   "cell_type": "code",
   "execution_count": 11,
   "id": "0c1d63a5",
   "metadata": {},
   "outputs": [
    {
     "name": "stdout",
     "output_type": "stream",
     "text": [
      "Epoch [100/1000], Loss: 0.3533\n",
      "Epoch [200/1000], Loss: 0.2731\n",
      "Epoch [300/1000], Loss: 0.2214\n",
      "Epoch [400/1000], Loss: 0.1853\n",
      "Epoch [500/1000], Loss: 0.1588\n",
      "Epoch [600/1000], Loss: 0.1386\n",
      "Epoch [700/1000], Loss: 0.1227\n",
      "Epoch [800/1000], Loss: 0.1100\n",
      "Epoch [900/1000], Loss: 0.0995\n",
      "Epoch [1000/1000], Loss: 0.0907\n"
     ]
    }
   ],
   "source": [
    "for epoch in range(1000):\n",
    "    # Forward pass\n",
    "    y_pred = model(X)\n",
    "    # Compute the loss\n",
    "    loss = criterion(y_pred, Y)\n",
    "    # Backward pass and optimization\n",
    "    optimizer.zero_grad()\n",
    "    loss.backward()\n",
    "    optimizer.step()\n",
    "    # Print the loss for every 100th epoch\n",
    "    if (epoch+1) % 100 == 0:\n",
    "        print('Epoch [{}/{}], Loss: {:.4f}'.format(epoch+1, 1000, loss.item()))"
   ]
  },
  {
   "cell_type": "markdown",
   "id": "34e77c32",
   "metadata": {},
   "source": [
    "## 7. TEST THE MODEL"
   ]
  },
  {
   "cell_type": "code",
   "execution_count": 14,
   "id": "7fb20749",
   "metadata": {},
   "outputs": [
    {
     "name": "stdout",
     "output_type": "stream",
     "text": [
      "OR Predictions: tensor([[0.],\n",
      "        [1.],\n",
      "        [1.],\n",
      "        [1.]])\n"
     ]
    }
   ],
   "source": [
    "test_inputs = torch.tensor([[0, 0], [0, 1], [1, 0], [1, 1]], dtype=torch.float)\n",
    "with torch.no_grad():\n",
    "    test_outputs = model(test_inputs)\n",
    "    print('OR Predictions:', test_outputs.round())"
   ]
  }
 ],
 "metadata": {
  "kernelspec": {
   "display_name": "Python 3 (ipykernel)",
   "language": "python",
   "name": "python3"
  },
  "language_info": {
   "codemirror_mode": {
    "name": "ipython",
    "version": 3
   },
   "file_extension": ".py",
   "mimetype": "text/x-python",
   "name": "python",
   "nbconvert_exporter": "python",
   "pygments_lexer": "ipython3",
   "version": "3.9.7"
  }
 },
 "nbformat": 4,
 "nbformat_minor": 5
}
